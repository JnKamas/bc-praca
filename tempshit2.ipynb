{
 "cells": [
  {
   "cell_type": "code",
   "execution_count": 1,
   "metadata": {},
   "outputs": [
    {
     "name": "stdout",
     "output_type": "stream",
     "text": [
      "year 2023 is done\n",
      "year 2023 is done\n"
     ]
    }
   ],
   "source": [
    "'''\n",
    "THIS WAS ALREADY RUN\n",
    "'''\n",
    "\n",
    "import csv, sqlite3\n",
    "\n",
    "for ptno in [18, 25]:\n",
    "    for year in [2023]:\n",
    "        with sqlite3.connect('coalitions.db') as conn:\n",
    "            cur = conn.cursor()\n",
    "\n",
    "            cur.execute(f'''\n",
    "                SELECT iteration_number, party_number, MIN(samples) \n",
    "                FROM tab{year} \n",
    "                WHERE diff < 76 AND party_number == {ptno} \n",
    "                GROUP BY iteration_number, party_number;\n",
    "            ''')\n",
    "\n",
    "            results = cur.fetchall()\n",
    "\n",
    "            with open(f'coalitions{year}all-{ptno}.csv', 'w', newline='') as csvfile:\n",
    "                csvwriter = csv.writer(csvfile)\n",
    "                csvwriter.writerow(['iteration_number', 'party_number', 'lowest_samples'])\n",
    "                csvwriter.writerows(results)\n",
    "            print(f'year {year} is done')\n",
    "\n"
   ]
  }
 ],
 "metadata": {
  "kernelspec": {
   "display_name": "base",
   "language": "python",
   "name": "python3"
  },
  "language_info": {
   "codemirror_mode": {
    "name": "ipython",
    "version": 3
   },
   "file_extension": ".py",
   "mimetype": "text/x-python",
   "name": "python",
   "nbconvert_exporter": "python",
   "pygments_lexer": "ipython3",
   "version": "3.11.5"
  }
 },
 "nbformat": 4,
 "nbformat_minor": 2
}
