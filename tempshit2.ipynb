{
 "cells": [
  {
   "cell_type": "code",
   "execution_count": 2,
   "metadata": {},
   "outputs": [
    {
     "name": "stdout",
     "output_type": "stream",
     "text": [
      "dh 18 is done\n",
      "hb 18 is done\n",
      "dh 25 is done\n",
      "hb 25 is done\n"
     ]
    }
   ],
   "source": [
    "'''\n",
    "THIS WAS ALREADY RUN\n",
    "'''\n",
    "\n",
    "import csv, sqlite3\n",
    "year = 2023\n",
    "\n",
    "for ptno in [18, 25]:\n",
    "    for suff in ['dh', 'hb']:\n",
    "        with sqlite3.connect('apportionments.db') as conn:\n",
    "            cur = conn.cursor()\n",
    "\n",
    "            cur.execute(f'''\n",
    "                SELECT iteration_number, party_number, MIN(samples) \n",
    "                FROM tab{suff}coal \n",
    "                WHERE diff < 76 AND party_number == {ptno} \n",
    "                GROUP BY iteration_number, party_number;\n",
    "            ''')\n",
    "\n",
    "            results = cur.fetchall()\n",
    "\n",
    "            with open(f'coalitions{year}{suff}coal-{ptno}.csv', 'w', newline='') as csvfile:\n",
    "                csvwriter = csv.writer(csvfile)\n",
    "                csvwriter.writerow(['iteration_number', 'party_number', 'lowest_samples'])\n",
    "                csvwriter.writerows(results)\n",
    "            print(f'{suff} {ptno} is done')\n",
    "\n"
   ]
  },
  {
   "cell_type": "code",
   "execution_count": 3,
   "metadata": {},
   "outputs": [
    {
     "name": "stdout",
     "output_type": "stream",
     "text": [
      "dh 18 is done\n",
      "hb 18 is done\n",
      "dh 25 is done\n",
      "hb 25 is done\n"
     ]
    }
   ],
   "source": [
    "'''\n",
    "THIS WAS ALREADY RUN\n",
    "'''\n",
    "\n",
    "import csv, sqlite3\n",
    "year = 2023\n",
    "\n",
    "for ptno in [18, 25]:\n",
    "    for suff in ['dh', 'hb']:\n",
    "        with sqlite3.connect('apportionments.db') as conn:\n",
    "            cur = conn.cursor()\n",
    "\n",
    "            cur.execute(f'''\n",
    "                SELECT iteration_number, party_number, MIN(samples) \n",
    "                FROM tab{suff}\n",
    "                WHERE diff > 0 AND party_number == {ptno} \n",
    "                GROUP BY iteration_number, party_number;\n",
    "            ''')\n",
    "\n",
    "            results = cur.fetchall()\n",
    "\n",
    "            with open(f'coalitions{year}{suff}all-{ptno}.csv', 'w', newline='') as csvfile:\n",
    "                csvwriter = csv.writer(csvfile)\n",
    "                csvwriter.writerow(['iteration_number', 'party_number', 'lowest_samples'])\n",
    "                csvwriter.writerows(results)\n",
    "            print(f'{suff} {ptno} is done')\n"
   ]
  }
 ],
 "metadata": {
  "kernelspec": {
   "display_name": "base",
   "language": "python",
   "name": "python3"
  },
  "language_info": {
   "codemirror_mode": {
    "name": "ipython",
    "version": 3
   },
   "file_extension": ".py",
   "mimetype": "text/x-python",
   "name": "python",
   "nbconvert_exporter": "python",
   "pygments_lexer": "ipython3",
   "version": "3.11.5"
  }
 },
 "nbformat": 4,
 "nbformat_minor": 2
}
