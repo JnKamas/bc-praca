{
 "cells": [
  {
   "cell_type": "code",
   "execution_count": 1,
   "metadata": {
    "metadata": {}
   },
   "outputs": [
    {
     "name": "stderr",
     "output_type": "stream",
     "text": [
      "c:\\Users\\janko\\anaconda3x\\Lib\\site-packages\\pandas\\core\\arrays\\masked.py:60: UserWarning: Pandas requires version '1.3.6' or newer of 'bottleneck' (version '1.3.5' currently installed).\n",
      "  from pandas.core import (\n"
     ]
    }
   ],
   "source": [
    "from apportionment import *\n"
   ]
  },
  {
   "cell_type": "code",
   "execution_count": 2,
   "metadata": {
    "metadata": {}
   },
   "outputs": [
    {
     "name": "stdout",
     "output_type": "stream",
     "text": [
      "No of votes from source: 4388872\n",
      "Considered votes: 1000000\n",
      "No. of seats: 150\n",
      "seats ok\n",
      "PROBLEM dict_values([42, 32, 27, 16, 12, 11, 10])\n",
      "Apportionment should work correctly.\n",
      "sum of probs: 0.9999999999999998\n",
      "Initializing simulation...\n",
      "1 / 500\n",
      "2 / 500\n",
      "3 / 500\n"
     ]
    },
    {
     "ename": "KeyboardInterrupt",
     "evalue": "",
     "output_type": "error",
     "traceback": [
      "\u001b[1;31m---------------------------------------------------------------------------\u001b[0m",
      "\u001b[1;31mKeyboardInterrupt\u001b[0m                         Traceback (most recent call last)",
      "Cell \u001b[1;32mIn[2], line 24\u001b[0m\n\u001b[0;32m     22\u001b[0m \u001b[38;5;28mprint\u001b[39m(\u001b[38;5;124m\"\u001b[39m\u001b[38;5;124msum of probs:\u001b[39m\u001b[38;5;124m\"\u001b[39m, \u001b[38;5;28msum\u001b[39m(ap\u001b[38;5;241m.\u001b[39mprobabilities\u001b[38;5;241m.\u001b[39mvalues()))\n\u001b[0;32m     23\u001b[0m \u001b[38;5;28;01mif\u001b[39;00m \u001b[38;5;129;01mnot\u001b[39;00m os\u001b[38;5;241m.\u001b[39mpath\u001b[38;5;241m.\u001b[39mexists(file):\n\u001b[1;32m---> 24\u001b[0m     \u001b[43map\u001b[49m\u001b[38;5;241;43m.\u001b[39;49m\u001b[43miterated_simulate\u001b[49m\u001b[43m(\u001b[49m\u001b[38;5;124;43m'\u001b[39;49m\u001b[38;5;124;43mboxes\u001b[39;49m\u001b[38;5;124;43m'\u001b[39;49m\u001b[43m,\u001b[49m\u001b[43m \u001b[49m\u001b[43mfile\u001b[49m\u001b[43m,\u001b[49m\u001b[43m \u001b[49m\u001b[43mnit\u001b[49m\u001b[38;5;241;43m=\u001b[39;49m\u001b[43mnit\u001b[49m\u001b[43m,\u001b[49m\u001b[43m \u001b[49m\u001b[43mgroup_size\u001b[49m\u001b[38;5;241;43m=\u001b[39;49m\u001b[43mgroup_size\u001b[49m\u001b[43m,\u001b[49m\u001b[43m \u001b[49m\u001b[43mdivide\u001b[49m\u001b[38;5;241;43m=\u001b[39;49m\u001b[38;5;124;43m\"\u001b[39;49m\u001b[38;5;124;43mhagenbach bischoff\u001b[39;49m\u001b[38;5;124;43m\"\u001b[39;49m\u001b[43m)\u001b[49m\n\u001b[0;32m     25\u001b[0m \u001b[38;5;28;01melse\u001b[39;00m:\n\u001b[0;32m     26\u001b[0m     \u001b[38;5;28mprint\u001b[39m(\u001b[38;5;124m\"\u001b[39m\u001b[38;5;124mSimulation did not happen, file already exists!\u001b[39m\u001b[38;5;124m\"\u001b[39m)\n",
      "File \u001b[1;32mc:\\Users\\janko\\Desktop\\MATFYZ\\bakalarka\\bc-praca\\apportionment.py:235\u001b[0m, in \u001b[0;36mApportionment.iterated_simulate\u001b[1;34m(self, method, file, nit, group_size, divide)\u001b[0m\n\u001b[0;32m    232\u001b[0m     new_data \u001b[38;5;241m=\u001b[39m {\u001b[38;5;124m'\u001b[39m\u001b[38;5;124minteration_number\u001b[39m\u001b[38;5;124m'\u001b[39m: i\u001b[38;5;241m+\u001b[39m\u001b[38;5;241m1\u001b[39m, \u001b[38;5;124m'\u001b[39m\u001b[38;5;124mparty_number\u001b[39m\u001b[38;5;124m'\u001b[39m: party, \u001b[38;5;124m'\u001b[39m\u001b[38;5;124msamples\u001b[39m\u001b[38;5;124m'\u001b[39m : size, \u001b[38;5;124m'\u001b[39m\u001b[38;5;124mdiff\u001b[39m\u001b[38;5;124m'\u001b[39m : distance}\n\u001b[0;32m    233\u001b[0m     writer\u001b[38;5;241m.\u001b[39mwriterow(new_data)\n\u001b[1;32m--> 235\u001b[0m \u001b[38;5;28;01mfor\u001b[39;00m index, x \u001b[38;5;129;01min\u001b[39;00m \u001b[38;5;28;43mself\u001b[39;49m\u001b[38;5;241;43m.\u001b[39;49m\u001b[43mgenerate_additional_votes\u001b[49m\u001b[43m(\u001b[49m\u001b[38;5;241;43m1\u001b[39;49m\u001b[43m)\u001b[49m\u001b[38;5;241m.\u001b[39mitems():\n\u001b[0;32m    236\u001b[0m     \u001b[38;5;28;01mtry\u001b[39;00m: apx\u001b[38;5;241m.\u001b[39msubject_votes[index] \u001b[38;5;241m+\u001b[39m\u001b[38;5;241m=\u001b[39m x\n\u001b[0;32m    237\u001b[0m     \u001b[38;5;28;01mexcept\u001b[39;00m \u001b[38;5;167;01mKeyError\u001b[39;00m: apx\u001b[38;5;241m.\u001b[39msubject_votes[index] \u001b[38;5;241m=\u001b[39m x\n",
      "File \u001b[1;32mc:\\Users\\janko\\Desktop\\MATFYZ\\bakalarka\\bc-praca\\apportionment.py:144\u001b[0m, in \u001b[0;36mApportionment.generate_additional_votes\u001b[1;34m(self, count)\u001b[0m\n\u001b[0;32m    142\u001b[0m \u001b[38;5;28;01mdef\u001b[39;00m \u001b[38;5;21mgenerate_additional_votes\u001b[39m(\u001b[38;5;28mself\u001b[39m, count):\n\u001b[0;32m    143\u001b[0m     keys, probs \u001b[38;5;241m=\u001b[39m \u001b[38;5;28mzip\u001b[39m(\u001b[38;5;241m*\u001b[39m\u001b[38;5;28mself\u001b[39m\u001b[38;5;241m.\u001b[39mprobabilities\u001b[38;5;241m.\u001b[39mitems())\n\u001b[1;32m--> 144\u001b[0m     choices \u001b[38;5;241m=\u001b[39m \u001b[43mnp\u001b[49m\u001b[38;5;241;43m.\u001b[39;49m\u001b[43mrandom\u001b[49m\u001b[38;5;241;43m.\u001b[39;49m\u001b[43mchoice\u001b[49m\u001b[43m(\u001b[49m\u001b[43mkeys\u001b[49m\u001b[43m,\u001b[49m\u001b[43m \u001b[49m\u001b[43mcount\u001b[49m\u001b[43m,\u001b[49m\u001b[43m \u001b[49m\u001b[43mp\u001b[49m\u001b[38;5;241;43m=\u001b[39;49m\u001b[43mprobs\u001b[49m\u001b[43m)\u001b[49m\n\u001b[0;32m    145\u001b[0m     results \u001b[38;5;241m=\u001b[39m {key: np\u001b[38;5;241m.\u001b[39mcount_nonzero(choices \u001b[38;5;241m==\u001b[39m key) \u001b[38;5;28;01mfor\u001b[39;00m key \u001b[38;5;129;01min\u001b[39;00m \u001b[38;5;28mset\u001b[39m(choices)}\n\u001b[0;32m    146\u001b[0m     \u001b[38;5;28;01mreturn\u001b[39;00m results\n",
      "\u001b[1;31mKeyboardInterrupt\u001b[0m: "
     ]
    }
   ],
   "source": [
    "# Simulation parameters\n",
    "voters = 1000000\n",
    "num_seats = 150\n",
    "nit = 500\n",
    "group_size = int(0.03 * voters)\n",
    "link='./real_data/NRSR2023_clean.csv'\n",
    "file='1m-2023hb.csv'\n",
    "\n",
    "ap = Apportionment(num_seats, voters, link=link) \n",
    "print(\"No of votes from source:\", sum(ap.subject_votes.values()))\n",
    "print(\"Considered votes:\", ap.voters)\n",
    "print(\"No. of seats:\", num_seats)\n",
    "\n",
    "#apportionment test\n",
    "result = ap.divide_seats(\"hagenbach bischoff\")\n",
    "if not (sum(result.values()) == 150): print(result.values()) \n",
    "else: print(\"seats ok\")\n",
    "if not (sorted(list(result.values())) == [12, 13, 17, 17, 38, 53]): print(\"PROBLEM\", result.values()) \n",
    "else: print(\"apport ok\")\n",
    "print(\"Apportionment should work correctly.\")\n",
    "\n",
    "print(\"sum of probs:\", sum(ap.probabilities.values()))\n",
    "if not os.path.exists(file):\n",
    "    ap.iterated_simulate('boxes', file, nit=nit, group_size=group_size, divide=\"hagenbach bischoff\")\n",
    "else:\n",
    "    print(\"Simulation did not happen, file already exists!\")"
   ]
  },
  {
   "cell_type": "code",
   "execution_count": 3,
   "metadata": {
    "metadata": {}
   },
   "outputs": [
    {
     "name": "stdout",
     "output_type": "stream",
     "text": [
      "No of votes from source: 4388872\n",
      "Considered votes: 1000000\n",
      "No. of seats: 150\n",
      "seats ok\n",
      "PROBLEM dict_values([42, 32, 27, 16, 12, 11, 10])\n",
      "Apportionment should work correctly.\n",
      "sum of probs: 0.9999999999999998\n",
      "Initializing simulation...\n",
      "1 / 500\n"
     ]
    },
    {
     "ename": "KeyboardInterrupt",
     "evalue": "",
     "output_type": "error",
     "traceback": [
      "\u001b[1;31m---------------------------------------------------------------------------\u001b[0m",
      "\u001b[1;31mKeyboardInterrupt\u001b[0m                         Traceback (most recent call last)",
      "Cell \u001b[1;32mIn[3], line 24\u001b[0m\n\u001b[0;32m     22\u001b[0m \u001b[38;5;28mprint\u001b[39m(\u001b[38;5;124m\"\u001b[39m\u001b[38;5;124msum of probs:\u001b[39m\u001b[38;5;124m\"\u001b[39m, \u001b[38;5;28msum\u001b[39m(ap\u001b[38;5;241m.\u001b[39mprobabilities\u001b[38;5;241m.\u001b[39mvalues()))\n\u001b[0;32m     23\u001b[0m \u001b[38;5;28;01mif\u001b[39;00m \u001b[38;5;129;01mnot\u001b[39;00m os\u001b[38;5;241m.\u001b[39mpath\u001b[38;5;241m.\u001b[39mexists(file):\n\u001b[1;32m---> 24\u001b[0m     \u001b[43map\u001b[49m\u001b[38;5;241;43m.\u001b[39;49m\u001b[43miterated_simulate\u001b[49m\u001b[43m(\u001b[49m\u001b[38;5;124;43m'\u001b[39;49m\u001b[38;5;124;43mboxes\u001b[39;49m\u001b[38;5;124;43m'\u001b[39;49m\u001b[43m,\u001b[49m\u001b[43m \u001b[49m\u001b[43mfile\u001b[49m\u001b[43m,\u001b[49m\u001b[43m \u001b[49m\u001b[43mnit\u001b[49m\u001b[38;5;241;43m=\u001b[39;49m\u001b[43mnit\u001b[49m\u001b[43m,\u001b[49m\u001b[43m \u001b[49m\u001b[43mgroup_size\u001b[49m\u001b[38;5;241;43m=\u001b[39;49m\u001b[43mgroup_size\u001b[49m\u001b[43m,\u001b[49m\u001b[43m \u001b[49m\u001b[43mdivide\u001b[49m\u001b[38;5;241;43m=\u001b[39;49m\u001b[38;5;124;43m\"\u001b[39;49m\u001b[38;5;124;43md\u001b[39;49m\u001b[38;5;124;43m'\u001b[39;49m\u001b[38;5;124;43mhont\u001b[39;49m\u001b[38;5;124;43m\"\u001b[39;49m\u001b[43m)\u001b[49m\n\u001b[0;32m     25\u001b[0m \u001b[38;5;28;01melse\u001b[39;00m:\n\u001b[0;32m     26\u001b[0m     \u001b[38;5;28mprint\u001b[39m(\u001b[38;5;124m\"\u001b[39m\u001b[38;5;124mSimulation did not happen, file already exists!\u001b[39m\u001b[38;5;124m\"\u001b[39m)\n",
      "File \u001b[1;32mc:\\Users\\janko\\Desktop\\MATFYZ\\bakalarka\\bc-praca\\apportionment.py:235\u001b[0m, in \u001b[0;36mApportionment.iterated_simulate\u001b[1;34m(self, method, file, nit, group_size, divide)\u001b[0m\n\u001b[0;32m    232\u001b[0m     new_data \u001b[38;5;241m=\u001b[39m {\u001b[38;5;124m'\u001b[39m\u001b[38;5;124minteration_number\u001b[39m\u001b[38;5;124m'\u001b[39m: i\u001b[38;5;241m+\u001b[39m\u001b[38;5;241m1\u001b[39m, \u001b[38;5;124m'\u001b[39m\u001b[38;5;124mparty_number\u001b[39m\u001b[38;5;124m'\u001b[39m: party, \u001b[38;5;124m'\u001b[39m\u001b[38;5;124msamples\u001b[39m\u001b[38;5;124m'\u001b[39m : size, \u001b[38;5;124m'\u001b[39m\u001b[38;5;124mdiff\u001b[39m\u001b[38;5;124m'\u001b[39m : distance}\n\u001b[0;32m    233\u001b[0m     writer\u001b[38;5;241m.\u001b[39mwriterow(new_data)\n\u001b[1;32m--> 235\u001b[0m \u001b[38;5;28;01mfor\u001b[39;00m index, x \u001b[38;5;129;01min\u001b[39;00m \u001b[38;5;28;43mself\u001b[39;49m\u001b[38;5;241;43m.\u001b[39;49m\u001b[43mgenerate_additional_votes\u001b[49m\u001b[43m(\u001b[49m\u001b[38;5;241;43m1\u001b[39;49m\u001b[43m)\u001b[49m\u001b[38;5;241m.\u001b[39mitems():\n\u001b[0;32m    236\u001b[0m     \u001b[38;5;28;01mtry\u001b[39;00m: apx\u001b[38;5;241m.\u001b[39msubject_votes[index] \u001b[38;5;241m+\u001b[39m\u001b[38;5;241m=\u001b[39m x\n\u001b[0;32m    237\u001b[0m     \u001b[38;5;28;01mexcept\u001b[39;00m \u001b[38;5;167;01mKeyError\u001b[39;00m: apx\u001b[38;5;241m.\u001b[39msubject_votes[index] \u001b[38;5;241m=\u001b[39m x\n",
      "File \u001b[1;32mc:\\Users\\janko\\Desktop\\MATFYZ\\bakalarka\\bc-praca\\apportionment.py:144\u001b[0m, in \u001b[0;36mApportionment.generate_additional_votes\u001b[1;34m(self, count)\u001b[0m\n\u001b[0;32m    142\u001b[0m \u001b[38;5;28;01mdef\u001b[39;00m \u001b[38;5;21mgenerate_additional_votes\u001b[39m(\u001b[38;5;28mself\u001b[39m, count):\n\u001b[0;32m    143\u001b[0m     keys, probs \u001b[38;5;241m=\u001b[39m \u001b[38;5;28mzip\u001b[39m(\u001b[38;5;241m*\u001b[39m\u001b[38;5;28mself\u001b[39m\u001b[38;5;241m.\u001b[39mprobabilities\u001b[38;5;241m.\u001b[39mitems())\n\u001b[1;32m--> 144\u001b[0m     choices \u001b[38;5;241m=\u001b[39m \u001b[43mnp\u001b[49m\u001b[38;5;241;43m.\u001b[39;49m\u001b[43mrandom\u001b[49m\u001b[38;5;241;43m.\u001b[39;49m\u001b[43mchoice\u001b[49m\u001b[43m(\u001b[49m\u001b[43mkeys\u001b[49m\u001b[43m,\u001b[49m\u001b[43m \u001b[49m\u001b[43mcount\u001b[49m\u001b[43m,\u001b[49m\u001b[43m \u001b[49m\u001b[43mp\u001b[49m\u001b[38;5;241;43m=\u001b[39;49m\u001b[43mprobs\u001b[49m\u001b[43m)\u001b[49m\n\u001b[0;32m    145\u001b[0m     results \u001b[38;5;241m=\u001b[39m {key: np\u001b[38;5;241m.\u001b[39mcount_nonzero(choices \u001b[38;5;241m==\u001b[39m key) \u001b[38;5;28;01mfor\u001b[39;00m key \u001b[38;5;129;01min\u001b[39;00m \u001b[38;5;28mset\u001b[39m(choices)}\n\u001b[0;32m    146\u001b[0m     \u001b[38;5;28;01mreturn\u001b[39;00m results\n",
      "\u001b[1;31mKeyboardInterrupt\u001b[0m: "
     ]
    }
   ],
   "source": [
    "# Simulation parameters\n",
    "voters = 1000000\n",
    "num_seats = 150\n",
    "nit = 500\n",
    "group_size = int(0.03 * voters)\n",
    "link='./real_data/NRSR2023_clean.csv'\n",
    "file='1m-2023dh.csv'\n",
    "\n",
    "ap = Apportionment(num_seats, voters, link=link) \n",
    "print(\"No of votes from source:\", sum(ap.subject_votes.values()))\n",
    "print(\"Considered votes:\", ap.voters)\n",
    "print(\"No. of seats:\", num_seats)\n",
    "\n",
    "#apportionment test\n",
    "result = ap.divide_seats(\"d'hont\")\n",
    "if not (sum(result.values()) == 150): print(result.values()) \n",
    "else: print(\"seats ok\")\n",
    "if not (sorted(list(result.values())) == [12, 13, 17, 17, 38, 53]): print(\"PROBLEM\", result.values()) \n",
    "else: print(\"apport ok\")\n",
    "print(\"Apportionment should work correctly.\")\n",
    "\n",
    "print(\"sum of probs:\", sum(ap.probabilities.values()))\n",
    "if not os.path.exists(file):\n",
    "    ap.iterated_simulate('boxes', file, nit=nit, group_size=group_size, divide=\"d'hont\")\n",
    "else:\n",
    "    print(\"Simulation did not happen, file already exists!\")"
   ]
  }
 ],
 "metadata": {
  "kernelspec": {
   "display_name": "base",
   "language": "python",
   "name": "python3"
  },
  "language_info": {
   "codemirror_mode": {
    "name": "ipython",
    "version": 3
   },
   "file_extension": ".py",
   "mimetype": "text/x-python",
   "name": "python",
   "nbconvert_exporter": "python",
   "pygments_lexer": "ipython3",
   "version": "3.11.5"
  }
 },
 "nbformat": 4,
 "nbformat_minor": 2
}
