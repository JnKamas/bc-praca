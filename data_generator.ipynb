{
 "cells": [
  {
   "cell_type": "code",
   "execution_count": 2,
   "metadata": {},
   "outputs": [],
   "source": [
    "from apportionment import *\n",
    "import os"
   ]
  },
  {
   "cell_type": "code",
   "execution_count": 4,
   "metadata": {},
   "outputs": [
    {
     "name": "stdout",
     "output_type": "stream",
     "text": [
      "link NRSR2023_clean.csv\n",
      "No of votes from source: 4388872\n",
      "Considered votes: 2000\n",
      "No. of seats: 150\n",
      "seats ok\n",
      "apport ok\n",
      "Apportionment should work correctly.\n",
      "sum of probs: 0.9999999999999998\n",
      "Initializing simulation...\n",
      "1 / 5\n",
      "2 / 5\n",
      "3 / 5\n",
      "4 / 5\n",
      "5 / 5\n",
      "Simulation finished. Detailed results in file test.csv\n",
      "Time: 4.75135350227356 seconds.\n"
     ]
    }
   ],
   "source": [
    "# Simulation parameters\n",
    "voters = 2000\n",
    "num_seats = 150\n",
    "nit = 5\n",
    "group_size = int(0.03 * voters)\n",
    "link='NRSR2023_clean.csv'\n",
    "file='test.csv'\n",
    "\n",
    "ap = Apportionment(num_seats, voters, link=link) \n",
    "# -> TODO higher tresholds for coalitions\n",
    "print(\"No of votes from source:\", sum(ap.subject_votes.values()))\n",
    "print(\"Considered votes:\", ap.voters)\n",
    "print(\"No. of seats:\", num_seats)\n",
    "\n",
    "#apportionment test\n",
    "result = ap.divide_seats(\"slovak\")\n",
    "if not (sum(result.values()) == 150): print(result.values()) \n",
    "else: print(\"seats ok\")\n",
    "if not (list(result.values()) == [32, 16, 11, 10, 42, 27, 12]): print(result.values()) \n",
    "else: print(\"apport ok\")\n",
    "print(\"Apportionment should work correctly.\")\n",
    "\n",
    "print(\"sum of probs:\", sum(ap.probabilities.values()))\n",
    "if not os.path.exists(file):\n",
    "    ap.iterated_simulate('boxes', file, nit=nit, group_size=group_size)\n",
    "else:\n",
    "    print(\"Simulation did not happen, file already exists!\")"
   ]
  }
 ],
 "metadata": {
  "kernelspec": {
   "display_name": "base",
   "language": "python",
   "name": "python3"
  },
  "language_info": {
   "codemirror_mode": {
    "name": "ipython",
    "version": 3
   },
   "file_extension": ".py",
   "mimetype": "text/x-python",
   "name": "python",
   "nbconvert_exporter": "python",
   "pygments_lexer": "ipython3",
   "version": "3.11.5"
  }
 },
 "nbformat": 4,
 "nbformat_minor": 2
}
