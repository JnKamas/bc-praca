{
 "cells": [
  {
   "cell_type": "code",
   "execution_count": 1,
   "metadata": {
    "metadata": {}
   },
   "outputs": [],
   "source": [
    "from apportionment import *\n"
   ]
  },
  {
   "cell_type": "code",
   "execution_count": 3,
   "metadata": {
    "metadata": {}
   },
   "outputs": [
    {
     "name": "stdout",
     "output_type": "stream",
     "text": [
      "No of votes from source: 4388872\n",
      "Considered votes: 1000000\n",
      "No. of seats: 150\n",
      "seats ok\n",
      "dict_values([32, 16, 11, 10, 42, 27, 12])\n",
      "Apportionment should work correctly.\n",
      "sum of probs: 0.9999999999999998\n",
      "Initializing simulation...\n",
      "Simulation finished. Detailed results in file boxes\n",
      "Time: 0.0 seconds.\n"
     ]
    }
   ],
   "source": [
    "year = 2023\n",
    "voters = 1000000\n",
    "num_seats = 150\n",
    "nit = 0\n",
    "group_size = int(0.03 * voters)\n",
    "link=f'./real_data/NRSR{year}_clean.csv'\n",
    "file=f'1m-{year}new.csv'\n",
    "\n",
    "ap = Apportionment(num_seats, voters, link=link) \n",
    "print(\"No of votes from source:\", sum(ap.subject_votes.values()))\n",
    "print(\"Considered votes:\", ap.voters)\n",
    "print(\"No. of seats:\", num_seats)\n",
    "\n",
    "#apportionment test\n",
    "result = ap.divide_seats(\"slovak\")\n",
    "if not (sum(result.values()) == 150): print(result.values()) \n",
    "else: print(\"seats ok\")\n",
    "if not (sorted(list(result.values())) == [61, 18, 17, 17, 15, 13, 9]): print(result.values()) \n",
    "else: print(\"apport ok\")\n",
    "print(\"Apportionment should work correctly.\")\n",
    "\n",
    "print(\"sum of probs:\", sum(ap.probabilities.values()))\n",
    "if not os.path.exists(file):\n",
    "    ap.iterated_simulate('boxes', file, nit=nit, group_size=group_size, coalition=True)\n",
    "else:\n",
    "    print(\"Simulation did not happen, file already exists!\")"
   ]
  }
 ],
 "metadata": {
  "kernelspec": {
   "display_name": "base",
   "language": "python",
   "name": "python3"
  },
  "language_info": {
   "codemirror_mode": {
    "name": "ipython",
    "version": 3
   },
   "file_extension": ".py",
   "mimetype": "text/x-python",
   "name": "python",
   "nbconvert_exporter": "python",
   "pygments_lexer": "ipython3",
   "version": "3.11.5"
  }
 },
 "nbformat": 4,
 "nbformat_minor": 2
}
