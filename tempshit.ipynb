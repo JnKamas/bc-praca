{
 "cells": [
  {
   "cell_type": "code",
   "execution_count": 2,
   "metadata": {},
   "outputs": [],
   "source": [
    "from apportionment import *\n",
    "\n",
    "for year in [2012]:\n",
    "    for subj in range(constants.subjects[year]):\n",
    "        with sqlite3.connect('lowest_samples_complete.db') as conn:\n",
    "            cur = conn.cursor()\n",
    "\n",
    "            cur.execute(f'''\n",
    "                SELECT iteration_number, party_number, MIN(samples) \n",
    "                FROM tab{year}\n",
    "                WHERE diff > 0 AND party_number = {subj}\n",
    "                GROUP BY iteration_number, party_number;\n",
    "            ''')\n",
    "\n",
    "            results = cur.fetchall()\n",
    "\n",
    "            with open(f'./db_exports_specific/lowest_samples{year}all-{subj}.csv', 'w', newline='') as csvfile:\n",
    "                csvwriter = csv.writer(csvfile)\n",
    "                csvwriter.writerow(['iteration_number', 'party_number', 'lowest_samples'])\n",
    "                csvwriter.writerows(results)"
   ]
  }
 ],
 "metadata": {
  "kernelspec": {
   "display_name": "base",
   "language": "python",
   "name": "python3"
  },
  "language_info": {
   "codemirror_mode": {
    "name": "ipython",
    "version": 3
   },
   "file_extension": ".py",
   "mimetype": "text/x-python",
   "name": "python",
   "nbconvert_exporter": "python",
   "pygments_lexer": "ipython3",
   "version": "3.11.5"
  }
 },
 "nbformat": 4,
 "nbformat_minor": 2
}
